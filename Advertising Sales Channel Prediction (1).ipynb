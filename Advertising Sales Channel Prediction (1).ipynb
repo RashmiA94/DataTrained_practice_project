{
 "cells": [
  {
   "cell_type": "markdown",
   "metadata": {},
   "source": [
    "# Advertising Sales Channel Prediction"
   ]
  },
  {
   "cell_type": "markdown",
   "metadata": {},
   "source": [
    "# Exploratory Data Analysis"
   ]
  },
  {
   "cell_type": "markdown",
   "metadata": {},
   "source": [
    "Importing Libraries for EDA"
   ]
  },
  {
   "cell_type": "code",
   "execution_count": 1,
   "metadata": {},
   "outputs": [],
   "source": [
    "import pandas as pd\n",
    "import numpy as np\n",
    "import seaborn as sns\n",
    "import matplotlib.pyplot as plt\n",
    "import warnings\n",
    "warnings.filterwarnings('ignore')"
   ]
  },
  {
   "cell_type": "markdown",
   "metadata": {},
   "source": [
    "Importing the dataset"
   ]
  },
  {
   "cell_type": "code",
   "execution_count": 2,
   "metadata": {},
   "outputs": [],
   "source": [
    "df=pd.read_csv('Advertising.csv', index_col=[0])"
   ]
  },
  {
   "cell_type": "markdown",
   "metadata": {},
   "source": [
    "First 5 entries"
   ]
  },
  {
   "cell_type": "code",
   "execution_count": 3,
   "metadata": {},
   "outputs": [
    {
     "data": {
      "text/html": [
       "<div>\n",
       "<style scoped>\n",
       "    .dataframe tbody tr th:only-of-type {\n",
       "        vertical-align: middle;\n",
       "    }\n",
       "\n",
       "    .dataframe tbody tr th {\n",
       "        vertical-align: top;\n",
       "    }\n",
       "\n",
       "    .dataframe thead th {\n",
       "        text-align: right;\n",
       "    }\n",
       "</style>\n",
       "<table border=\"1\" class=\"dataframe\">\n",
       "  <thead>\n",
       "    <tr style=\"text-align: right;\">\n",
       "      <th></th>\n",
       "      <th>TV</th>\n",
       "      <th>radio</th>\n",
       "      <th>newspaper</th>\n",
       "      <th>sales</th>\n",
       "    </tr>\n",
       "  </thead>\n",
       "  <tbody>\n",
       "    <tr>\n",
       "      <th>1</th>\n",
       "      <td>230.1</td>\n",
       "      <td>37.8</td>\n",
       "      <td>69.2</td>\n",
       "      <td>22.1</td>\n",
       "    </tr>\n",
       "    <tr>\n",
       "      <th>2</th>\n",
       "      <td>44.5</td>\n",
       "      <td>39.3</td>\n",
       "      <td>45.1</td>\n",
       "      <td>10.4</td>\n",
       "    </tr>\n",
       "    <tr>\n",
       "      <th>3</th>\n",
       "      <td>17.2</td>\n",
       "      <td>45.9</td>\n",
       "      <td>69.3</td>\n",
       "      <td>9.3</td>\n",
       "    </tr>\n",
       "    <tr>\n",
       "      <th>4</th>\n",
       "      <td>151.5</td>\n",
       "      <td>41.3</td>\n",
       "      <td>58.5</td>\n",
       "      <td>18.5</td>\n",
       "    </tr>\n",
       "    <tr>\n",
       "      <th>5</th>\n",
       "      <td>180.8</td>\n",
       "      <td>10.8</td>\n",
       "      <td>58.4</td>\n",
       "      <td>12.9</td>\n",
       "    </tr>\n",
       "  </tbody>\n",
       "</table>\n",
       "</div>"
      ],
      "text/plain": [
       "      TV  radio  newspaper  sales\n",
       "1  230.1   37.8       69.2   22.1\n",
       "2   44.5   39.3       45.1   10.4\n",
       "3   17.2   45.9       69.3    9.3\n",
       "4  151.5   41.3       58.5   18.5\n",
       "5  180.8   10.8       58.4   12.9"
      ]
     },
     "execution_count": 3,
     "metadata": {},
     "output_type": "execute_result"
    }
   ],
   "source": [
    "df.head()"
   ]
  },
  {
   "cell_type": "markdown",
   "metadata": {},
   "source": [
    "Last 5 Entries"
   ]
  },
  {
   "cell_type": "code",
   "execution_count": 4,
   "metadata": {},
   "outputs": [
    {
     "data": {
      "text/html": [
       "<div>\n",
       "<style scoped>\n",
       "    .dataframe tbody tr th:only-of-type {\n",
       "        vertical-align: middle;\n",
       "    }\n",
       "\n",
       "    .dataframe tbody tr th {\n",
       "        vertical-align: top;\n",
       "    }\n",
       "\n",
       "    .dataframe thead th {\n",
       "        text-align: right;\n",
       "    }\n",
       "</style>\n",
       "<table border=\"1\" class=\"dataframe\">\n",
       "  <thead>\n",
       "    <tr style=\"text-align: right;\">\n",
       "      <th></th>\n",
       "      <th>TV</th>\n",
       "      <th>radio</th>\n",
       "      <th>newspaper</th>\n",
       "      <th>sales</th>\n",
       "    </tr>\n",
       "  </thead>\n",
       "  <tbody>\n",
       "    <tr>\n",
       "      <th>196</th>\n",
       "      <td>38.2</td>\n",
       "      <td>3.7</td>\n",
       "      <td>13.8</td>\n",
       "      <td>7.6</td>\n",
       "    </tr>\n",
       "    <tr>\n",
       "      <th>197</th>\n",
       "      <td>94.2</td>\n",
       "      <td>4.9</td>\n",
       "      <td>8.1</td>\n",
       "      <td>9.7</td>\n",
       "    </tr>\n",
       "    <tr>\n",
       "      <th>198</th>\n",
       "      <td>177.0</td>\n",
       "      <td>9.3</td>\n",
       "      <td>6.4</td>\n",
       "      <td>12.8</td>\n",
       "    </tr>\n",
       "    <tr>\n",
       "      <th>199</th>\n",
       "      <td>283.6</td>\n",
       "      <td>42.0</td>\n",
       "      <td>66.2</td>\n",
       "      <td>25.5</td>\n",
       "    </tr>\n",
       "    <tr>\n",
       "      <th>200</th>\n",
       "      <td>232.1</td>\n",
       "      <td>8.6</td>\n",
       "      <td>8.7</td>\n",
       "      <td>13.4</td>\n",
       "    </tr>\n",
       "  </tbody>\n",
       "</table>\n",
       "</div>"
      ],
      "text/plain": [
       "        TV  radio  newspaper  sales\n",
       "196   38.2    3.7       13.8    7.6\n",
       "197   94.2    4.9        8.1    9.7\n",
       "198  177.0    9.3        6.4   12.8\n",
       "199  283.6   42.0       66.2   25.5\n",
       "200  232.1    8.6        8.7   13.4"
      ]
     },
     "execution_count": 4,
     "metadata": {},
     "output_type": "execute_result"
    }
   ],
   "source": [
    "df.tail()"
   ]
  },
  {
   "cell_type": "code",
   "execution_count": 5,
   "metadata": {},
   "outputs": [
    {
     "data": {
      "text/plain": [
       "(200, 4)"
      ]
     },
     "execution_count": 5,
     "metadata": {},
     "output_type": "execute_result"
    }
   ],
   "source": [
    "df.shape"
   ]
  },
  {
   "cell_type": "markdown",
   "metadata": {},
   "source": [
    "The dataset contains 200 rows and 4 columns"
   ]
  },
  {
   "cell_type": "markdown",
   "metadata": {},
   "source": [
    "Datatype of the features"
   ]
  },
  {
   "cell_type": "code",
   "execution_count": 6,
   "metadata": {},
   "outputs": [
    {
     "data": {
      "text/plain": [
       "TV           float64\n",
       "radio        float64\n",
       "newspaper    float64\n",
       "sales        float64\n",
       "dtype: object"
      ]
     },
     "execution_count": 6,
     "metadata": {},
     "output_type": "execute_result"
    }
   ],
   "source": [
    "df.dtypes"
   ]
  },
  {
   "cell_type": "markdown",
   "metadata": {},
   "source": [
    "Information about the features"
   ]
  },
  {
   "cell_type": "code",
   "execution_count": 7,
   "metadata": {},
   "outputs": [
    {
     "name": "stdout",
     "output_type": "stream",
     "text": [
      "<class 'pandas.core.frame.DataFrame'>\n",
      "Int64Index: 200 entries, 1 to 200\n",
      "Data columns (total 4 columns):\n",
      " #   Column     Non-Null Count  Dtype  \n",
      "---  ------     --------------  -----  \n",
      " 0   TV         200 non-null    float64\n",
      " 1   radio      200 non-null    float64\n",
      " 2   newspaper  200 non-null    float64\n",
      " 3   sales      200 non-null    float64\n",
      "dtypes: float64(4)\n",
      "memory usage: 7.8 KB\n"
     ]
    }
   ],
   "source": [
    "df.info()"
   ]
  },
  {
   "cell_type": "markdown",
   "metadata": {},
   "source": [
    "# Missing Values"
   ]
  },
  {
   "cell_type": "code",
   "execution_count": 8,
   "metadata": {},
   "outputs": [
    {
     "data": {
      "text/plain": [
       "TV           0\n",
       "radio        0\n",
       "newspaper    0\n",
       "sales        0\n",
       "dtype: int64"
      ]
     },
     "execution_count": 8,
     "metadata": {},
     "output_type": "execute_result"
    }
   ],
   "source": [
    "df.isnull().sum()"
   ]
  },
  {
   "cell_type": "markdown",
   "metadata": {},
   "source": [
    "Heatmap of the null values."
   ]
  },
  {
   "cell_type": "code",
   "execution_count": 9,
   "metadata": {},
   "outputs": [
    {
     "data": {
      "text/plain": [
       "<AxesSubplot:>"
      ]
     },
     "execution_count": 9,
     "metadata": {},
     "output_type": "execute_result"
    },
    {
     "data": {
      "image/png": "[encoded data removed]",
      "text/plain": [
       "<Figure size 432x288 with 2 Axes>"
      ]
     },
     "metadata": {
      "needs_background": "light"
     },
     "output_type": "display_data"
    }
   ],
   "source": [
    "sns.heatmap(df.isnull())"
   ]
  },
  {
   "cell_type": "markdown",
   "metadata": {},
   "source": [
    "There are no null values in the dataset."
   ]
  },
  {
   "cell_type": "code",
   "execution_count": 10,
   "metadata": {},
   "outputs": [],
   "source": [
    "df1=df.copy()"
   ]
  },
  {
   "cell_type": "code",
   "execution_count": 11,
   "metadata": {},
   "outputs": [
    {
     "data": {
      "text/html": [
       "<div>\n",
       "<style scoped>\n",
       "    .dataframe tbody tr th:only-of-type {\n",
       "        vertical-align: middle;\n",
       "    }\n",
       "\n",
       "    .dataframe tbody tr th {\n",
       "        vertical-align: top;\n",
       "    }\n",
       "\n",
       "    .dataframe thead th {\n",
       "        text-align: right;\n",
       "    }\n",
       "</style>\n",
       "<table border=\"1\" class=\"dataframe\">\n",
       "  <thead>\n",
       "    <tr style=\"text-align: right;\">\n",
       "      <th></th>\n",
       "      <th>TV</th>\n",
       "      <th>radio</th>\n",
       "      <th>newspaper</th>\n",
       "      <th>sales</th>\n",
       "    </tr>\n",
       "  </thead>\n",
       "  <tbody>\n",
       "    <tr>\n",
       "      <th>1</th>\n",
       "      <td>230.1</td>\n",
       "      <td>37.8</td>\n",
       "      <td>69.2</td>\n",
       "      <td>22.1</td>\n",
       "    </tr>\n",
       "    <tr>\n",
       "      <th>2</th>\n",
       "      <td>44.5</td>\n",
       "      <td>39.3</td>\n",
       "      <td>45.1</td>\n",
       "      <td>10.4</td>\n",
       "    </tr>\n",
       "    <tr>\n",
       "      <th>3</th>\n",
       "      <td>17.2</td>\n",
       "      <td>45.9</td>\n",
       "      <td>69.3</td>\n",
       "      <td>9.3</td>\n",
       "    </tr>\n",
       "    <tr>\n",
       "      <th>4</th>\n",
       "      <td>151.5</td>\n",
       "      <td>41.3</td>\n",
       "      <td>58.5</td>\n",
       "      <td>18.5</td>\n",
       "    </tr>\n",
       "    <tr>\n",
       "      <th>5</th>\n",
       "      <td>180.8</td>\n",
       "      <td>10.8</td>\n",
       "      <td>58.4</td>\n",
       "      <td>12.9</td>\n",
       "    </tr>\n",
       "  </tbody>\n",
       "</table>\n",
       "</div>"
      ],
      "text/plain": [
       "      TV  radio  newspaper  sales\n",
       "1  230.1   37.8       69.2   22.1\n",
       "2   44.5   39.3       45.1   10.4\n",
       "3   17.2   45.9       69.3    9.3\n",
       "4  151.5   41.3       58.5   18.5\n",
       "5  180.8   10.8       58.4   12.9"
      ]
     },
     "execution_count": 11,
     "metadata": {},
     "output_type": "execute_result"
    }
   ],
   "source": [
    "df1.head()"
   ]
  },
  {
   "cell_type": "code",
   "execution_count": 12,
   "metadata": {},
   "outputs": [
    {
     "data": {
      "text/html": [
       "<div>\n",
       "<style scoped>\n",
       "    .dataframe tbody tr th:only-of-type {\n",
       "        vertical-align: middle;\n",
       "    }\n",
       "\n",
       "    .dataframe tbody tr th {\n",
       "        vertical-align: top;\n",
       "    }\n",
       "\n",
       "    .dataframe thead th {\n",
       "        text-align: right;\n",
       "    }\n",
       "</style>\n",
       "<table border=\"1\" class=\"dataframe\">\n",
       "  <thead>\n",
       "    <tr style=\"text-align: right;\">\n",
       "      <th></th>\n",
       "      <th>sales</th>\n",
       "      <th>Media</th>\n",
       "      <th>Expense</th>\n",
       "    </tr>\n",
       "  </thead>\n",
       "  <tbody>\n",
       "    <tr>\n",
       "      <th>0</th>\n",
       "      <td>22.1</td>\n",
       "      <td>TV</td>\n",
       "      <td>230.1</td>\n",
       "    </tr>\n",
       "    <tr>\n",
       "      <th>1</th>\n",
       "      <td>10.4</td>\n",
       "      <td>TV</td>\n",
       "      <td>44.5</td>\n",
       "    </tr>\n",
       "    <tr>\n",
       "      <th>2</th>\n",
       "      <td>9.3</td>\n",
       "      <td>TV</td>\n",
       "      <td>17.2</td>\n",
       "    </tr>\n",
       "    <tr>\n",
       "      <th>3</th>\n",
       "      <td>18.5</td>\n",
       "      <td>TV</td>\n",
       "      <td>151.5</td>\n",
       "    </tr>\n",
       "    <tr>\n",
       "      <th>4</th>\n",
       "      <td>12.9</td>\n",
       "      <td>TV</td>\n",
       "      <td>180.8</td>\n",
       "    </tr>\n",
       "  </tbody>\n",
       "</table>\n",
       "</div>"
      ],
      "text/plain": [
       "   sales Media  Expense\n",
       "0   22.1    TV    230.1\n",
       "1   10.4    TV     44.5\n",
       "2    9.3    TV     17.2\n",
       "3   18.5    TV    151.5\n",
       "4   12.9    TV    180.8"
      ]
     },
     "execution_count": 12,
     "metadata": {},
     "output_type": "execute_result"
    }
   ],
   "source": [
    "df1 = pd.melt(df1, id_vars=\"sales\", var_name=\"Media\", value_name=\"Expense\")\n",
    "df1.head()"
   ]
  },
  {
   "cell_type": "code",
   "execution_count": 13,
   "metadata": {},
   "outputs": [
    {
     "data": {
      "text/html": [
       "<div>\n",
       "<style scoped>\n",
       "    .dataframe tbody tr th:only-of-type {\n",
       "        vertical-align: middle;\n",
       "    }\n",
       "\n",
       "    .dataframe tbody tr th {\n",
       "        vertical-align: top;\n",
       "    }\n",
       "\n",
       "    .dataframe thead th {\n",
       "        text-align: right;\n",
       "    }\n",
       "</style>\n",
       "<table border=\"1\" class=\"dataframe\">\n",
       "  <thead>\n",
       "    <tr style=\"text-align: right;\">\n",
       "      <th></th>\n",
       "      <th>sales</th>\n",
       "      <th>Media</th>\n",
       "      <th>Expense</th>\n",
       "    </tr>\n",
       "  </thead>\n",
       "  <tbody>\n",
       "    <tr>\n",
       "      <th>595</th>\n",
       "      <td>7.6</td>\n",
       "      <td>newspaper</td>\n",
       "      <td>13.8</td>\n",
       "    </tr>\n",
       "    <tr>\n",
       "      <th>596</th>\n",
       "      <td>9.7</td>\n",
       "      <td>newspaper</td>\n",
       "      <td>8.1</td>\n",
       "    </tr>\n",
       "    <tr>\n",
       "      <th>597</th>\n",
       "      <td>12.8</td>\n",
       "      <td>newspaper</td>\n",
       "      <td>6.4</td>\n",
       "    </tr>\n",
       "    <tr>\n",
       "      <th>598</th>\n",
       "      <td>25.5</td>\n",
       "      <td>newspaper</td>\n",
       "      <td>66.2</td>\n",
       "    </tr>\n",
       "    <tr>\n",
       "      <th>599</th>\n",
       "      <td>13.4</td>\n",
       "      <td>newspaper</td>\n",
       "      <td>8.7</td>\n",
       "    </tr>\n",
       "  </tbody>\n",
       "</table>\n",
       "</div>"
      ],
      "text/plain": [
       "     sales      Media  Expense\n",
       "595    7.6  newspaper     13.8\n",
       "596    9.7  newspaper      8.1\n",
       "597   12.8  newspaper      6.4\n",
       "598   25.5  newspaper     66.2\n",
       "599   13.4  newspaper      8.7"
      ]
     },
     "execution_count": 13,
     "metadata": {},
     "output_type": "execute_result"
    }
   ],
   "source": [
    "df1.tail()"
   ]
  },
  {
   "cell_type": "code",
   "execution_count": 14,
   "metadata": {},
   "outputs": [
    {
     "data": {
      "text/plain": [
       "<seaborn.axisgrid.FacetGrid at 0x1d60dbbab80>"
      ]
     },
     "execution_count": 14,
     "metadata": {},
     "output_type": "execute_result"
    },
    {
     "data": {
      "image/png": "[encoded data removed]",
      "text/plain": [
       "<Figure size 432x432 with 1 Axes>"
      ]
     },
     "metadata": {},
     "output_type": "display_data"
    }
   ],
   "source": [
    "sns.set_theme(style=\"whitegrid\")\n",
    "g=sns.catplot(data=df1,kind=\"bar\",x=\"Media\",y=\"Expense\",ci=\"sd\",palette=\"dark\",alpha=.6,height=6)\n",
    "g.despine(left=True)\n",
    "g.set_axis_labels(\" \",\"Expense\")"
   ]
  },
  {
   "cell_type": "markdown",
   "metadata": {},
   "source": [
    "Expense of TV is largest followed by newspaper and lowest for radio."
   ]
  },
  {
   "cell_type": "markdown",
   "metadata": {},
   "source": [
    "# Statistical Summary"
   ]
  },
  {
   "cell_type": "code",
   "execution_count": 15,
   "metadata": {},
   "outputs": [
    {
     "data": {
      "text/html": [
       "<div>\n",
       "<style scoped>\n",
       "    .dataframe tbody tr th:only-of-type {\n",
       "        vertical-align: middle;\n",
       "    }\n",
       "\n",
       "    .dataframe tbody tr th {\n",
       "        vertical-align: top;\n",
       "    }\n",
       "\n",
       "    .dataframe thead th {\n",
       "        text-align: right;\n",
       "    }\n",
       "</style>\n",
       "<table border=\"1\" class=\"dataframe\">\n",
       "  <thead>\n",
       "    <tr style=\"text-align: right;\">\n",
       "      <th></th>\n",
       "      <th>TV</th>\n",
       "      <th>radio</th>\n",
       "      <th>newspaper</th>\n",
       "      <th>sales</th>\n",
       "    </tr>\n",
       "  </thead>\n",
       "  <tbody>\n",
       "    <tr>\n",
       "      <th>count</th>\n",
       "      <td>200.000000</td>\n",
       "      <td>200.000000</td>\n",
       "      <td>200.000000</td>\n",
       "      <td>200.000000</td>\n",
       "    </tr>\n",
       "    <tr>\n",
       "      <th>mean</th>\n",
       "      <td>147.042500</td>\n",
       "      <td>23.264000</td>\n",
       "      <td>30.554000</td>\n",
       "      <td>14.022500</td>\n",
       "    </tr>\n",
       "    <tr>\n",
       "      <th>std</th>\n",
       "      <td>85.854236</td>\n",
       "      <td>14.846809</td>\n",
       "      <td>21.778621</td>\n",
       "      <td>5.217457</td>\n",
       "    </tr>\n",
       "    <tr>\n",
       "      <th>min</th>\n",
       "      <td>0.700000</td>\n",
       "      <td>0.000000</td>\n",
       "      <td>0.300000</td>\n",
       "      <td>1.600000</td>\n",
       "    </tr>\n",
       "    <tr>\n",
       "      <th>25%</th>\n",
       "      <td>74.375000</td>\n",
       "      <td>9.975000</td>\n",
       "      <td>12.750000</td>\n",
       "      <td>10.375000</td>\n",
       "    </tr>\n",
       "    <tr>\n",
       "      <th>50%</th>\n",
       "      <td>149.750000</td>\n",
       "      <td>22.900000</td>\n",
       "      <td>25.750000</td>\n",
       "      <td>12.900000</td>\n",
       "    </tr>\n",
       "    <tr>\n",
       "      <th>75%</th>\n",
       "      <td>218.825000</td>\n",
       "      <td>36.525000</td>\n",
       "      <td>45.100000</td>\n",
       "      <td>17.400000</td>\n",
       "    </tr>\n",
       "    <tr>\n",
       "      <th>max</th>\n",
       "      <td>296.400000</td>\n",
       "      <td>49.600000</td>\n",
       "      <td>114.000000</td>\n",
       "      <td>27.000000</td>\n",
       "    </tr>\n",
       "  </tbody>\n",
       "</table>\n",
       "</div>"
      ],
      "text/plain": [
       "               TV       radio   newspaper       sales\n",
       "count  200.000000  200.000000  200.000000  200.000000\n",
       "mean   147.042500   23.264000   30.554000   14.022500\n",
       "std     85.854236   14.846809   21.778621    5.217457\n",
       "min      0.700000    0.000000    0.300000    1.600000\n",
       "25%     74.375000    9.975000   12.750000   10.375000\n",
       "50%    149.750000   22.900000   25.750000   12.900000\n",
       "75%    218.825000   36.525000   45.100000   17.400000\n",
       "max    296.400000   49.600000  114.000000   27.000000"
      ]
     },
     "execution_count": 15,
     "metadata": {},
     "output_type": "execute_result"
    }
   ],
   "source": [
    "df.describe()"
   ]
  },
  {
   "cell_type": "markdown",
   "metadata": {},
   "source": [
    "Max value of newspaper is very high than the 75th percentile indicating presence of outlier.\n",
    "Min value of only radio is zero.\n",
    "Mean is less than 75th percentile indicating skewness."
   ]
  },
  {
   "cell_type": "markdown",
   "metadata": {},
   "source": [
    "Statistical heatmap"
   ]
  },
  {
   "cell_type": "code",
   "execution_count": 16,
   "metadata": {},
   "outputs": [
    {
     "data": {
      "text/plain": [
       "<AxesSubplot:>"
      ]
     },
     "execution_count": 16,
     "metadata": {},
     "output_type": "execute_result"
    },
    {
     "data": {
      "image/png": "[encoded data removed]",
      "text/plain": [
       "<Figure size 1584x504 with 2 Axes>"
      ]
     },
     "metadata": {},
     "output_type": "display_data"
    }
   ],
   "source": [
    "plt.figure(figsize=(22,7))\n",
    "sns.heatmap(df.describe(),annot=True,fmt='0.2f',linewidths=0.1,linecolor='white')"
   ]
  },
  {
   "cell_type": "markdown",
   "metadata": {},
   "source": [
    "# Checking Correlation"
   ]
  },
  {
   "cell_type": "code",
   "execution_count": 17,
   "metadata": {},
   "outputs": [
    {
     "data": {
      "text/html": [
       "<div>\n",
       "<style scoped>\n",
       "    .dataframe tbody tr th:only-of-type {\n",
       "        vertical-align: middle;\n",
       "    }\n",
       "\n",
       "    .dataframe tbody tr th {\n",
       "        vertical-align: top;\n",
       "    }\n",
       "\n",
       "    .dataframe thead th {\n",
       "        text-align: right;\n",
       "    }\n",
       "</style>\n",
       "<table border=\"1\" class=\"dataframe\">\n",
       "  <thead>\n",
       "    <tr style=\"text-align: right;\">\n",
       "      <th></th>\n",
       "      <th>TV</th>\n",
       "      <th>radio</th>\n",
       "      <th>newspaper</th>\n",
       "      <th>sales</th>\n",
       "    </tr>\n",
       "  </thead>\n",
       "  <tbody>\n",
       "    <tr>\n",
       "      <th>TV</th>\n",
       "      <td>1.000000</td>\n",
       "      <td>0.054809</td>\n",
       "      <td>0.056648</td>\n",
       "      <td>0.782224</td>\n",
       "    </tr>\n",
       "    <tr>\n",
       "      <th>radio</th>\n",
       "      <td>0.054809</td>\n",
       "      <td>1.000000</td>\n",
       "      <td>0.354104</td>\n",
       "      <td>0.576223</td>\n",
       "    </tr>\n",
       "    <tr>\n",
       "      <th>newspaper</th>\n",
       "      <td>0.056648</td>\n",
       "      <td>0.354104</td>\n",
       "      <td>1.000000</td>\n",
       "      <td>0.228299</td>\n",
       "    </tr>\n",
       "    <tr>\n",
       "      <th>sales</th>\n",
       "      <td>0.782224</td>\n",
       "      <td>0.576223</td>\n",
       "      <td>0.228299</td>\n",
       "      <td>1.000000</td>\n",
       "    </tr>\n",
       "  </tbody>\n",
       "</table>\n",
       "</div>"
      ],
      "text/plain": [
       "                 TV     radio  newspaper     sales\n",
       "TV         1.000000  0.054809   0.056648  0.782224\n",
       "radio      0.054809  1.000000   0.354104  0.576223\n",
       "newspaper  0.056648  0.354104   1.000000  0.228299\n",
       "sales      0.782224  0.576223   0.228299  1.000000"
      ]
     },
     "execution_count": 17,
     "metadata": {},
     "output_type": "execute_result"
    }
   ],
   "source": [
    "df.corr()"
   ]
  },
  {
   "cell_type": "markdown",
   "metadata": {},
   "source": [
    "Heatmap of correlation"
   ]
  },
  {
   "cell_type": "code",
   "execution_count": 18,
   "metadata": {},
   "outputs": [
    {
     "data": {
      "text/plain": [
       "<AxesSubplot:>"
      ]
     },
     "execution_count": 18,
     "metadata": {},
     "output_type": "execute_result"
    },
    {
     "data": {
      "image/png": "[encoded data removed]",
      "text/plain": [
       "<Figure size 720x432 with 2 Axes>"
      ]
     },
     "metadata": {},
     "output_type": "display_data"
    }
   ],
   "source": [
    "plt.figure(figsize=(10,6))\n",
    "sns.heatmap(df.corr(),annot=True)"
   ]
  },
  {
   "cell_type": "markdown",
   "metadata": {},
   "source": [
    "Highest correlation is between TV and sales follwed by radio and sales. Heatmap shows positive correlation between all the features."
   ]
  },
  {
   "cell_type": "markdown",
   "metadata": {},
   "source": [
    "correlation plot"
   ]
  },
  {
   "cell_type": "code",
   "execution_count": 19,
   "metadata": {},
   "outputs": [
    {
     "data": {
      "image/png": "[encoded data removed]",
      "text/plain": [
       "<Figure size 1584x504 with 1 Axes>"
      ]
     },
     "metadata": {},
     "output_type": "display_data"
    }
   ],
   "source": [
    "plt.figure(figsize=(22,7))\n",
    "df.corr()['sales'].sort_values(ascending=False).drop(['sales']).plot(kind='bar',color=\"r\")\n",
    "plt.xlabel('Feature',fontsize=14)\n",
    "plt.ylabel('column with target names',fontsize=14)\n",
    "plt.title('correlation',fontsize=18)\n",
    "plt.show()"
   ]
  },
  {
   "cell_type": "markdown",
   "metadata": {},
   "source": [
    "correlation of TV is highest with sales. all the features shows positive correlation with target variable."
   ]
  },
  {
   "cell_type": "markdown",
   "metadata": {},
   "source": [
    "# Distribution Plot"
   ]
  },
  {
   "cell_type": "code",
   "execution_count": 20,
   "metadata": {},
   "outputs": [
    {
     "data": {
      "image/png": "[encoded data removed]",
      "text/plain": [
       "<Figure size 432x288 with 1 Axes>"
      ]
     },
     "metadata": {},
     "output_type": "display_data"
    },
    {
     "data": {
      "image/png": "[encoded data removed]",
      "text/plain": [
       "<Figure size 432x288 with 1 Axes>"
      ]
     },
     "metadata": {},
     "output_type": "display_data"
    },
    {
     "data": {
      "image/png": "[encoded data removed]",
      "text/plain": [
       "<Figure size 432x288 with 1 Axes>"
      ]
     },
     "metadata": {},
     "output_type": "display_data"
    },
    {
     "data": {
      "image/png": "[encoded data removed]",
      "text/plain": [
       "<Figure size 432x288 with 1 Axes>"
      ]
     },
     "metadata": {},
     "output_type": "display_data"
    }
   ],
   "source": [
    "def custom_dist_plots(df):\n",
    "    for col in df.columns:\n",
    "        sns.distplot(df[col],hist=False).set_title(f\"{col} Distribution Graph\")\n",
    "        plt.axvline(df[col].mean(),color='r',label='mean')\n",
    "        plt.axvline(np.median(df[col]),color='b',label='median')\n",
    "        plt.axvline(df[col].mode()[0],color='g',label='mode')\n",
    "        plt.legend()\n",
    "        plt.show()\n",
    "custom_dist_plots(df)"
   ]
  },
  {
   "cell_type": "markdown",
   "metadata": {},
   "source": [
    "1.Mean and Median of TV and radio are nearly equal. Both show bimodal normal distribution.\n",
    "2.Newspaper and sales graph shows mean and median are different and away from each other. It shows skewness in its distribution.\n"
   ]
  },
  {
   "cell_type": "markdown",
   "metadata": {},
   "source": [
    "# Bivariate Analysis"
   ]
  },
  {
   "cell_type": "markdown",
   "metadata": {},
   "source": [
    "Scatter plot of TV with respect to sales shows positive linear relationship between them indicating increase in expense of TV also increases sales."
   ]
  },
  {
   "cell_type": "code",
   "execution_count": 21,
   "metadata": {},
   "outputs": [
    {
     "data": {
      "text/plain": [
       "<AxesSubplot:xlabel='TV', ylabel='sales'>"
      ]
     },
     "execution_count": 21,
     "metadata": {},
     "output_type": "execute_result"
    },
    {
     "data": {
      "image/png": "[encoded data removed]",
      "text/plain": [
       "<Figure size 432x288 with 1 Axes>"
      ]
     },
     "metadata": {},
     "output_type": "display_data"
    }
   ],
   "source": [
    "sns.scatterplot(x='TV', y='sales', data=df)"
   ]
  },
  {
   "cell_type": "markdown",
   "metadata": {},
   "source": [
    "The scatterplot below suggests that radio and sales are positively correlated whereas distribution is little \n",
    "scattered which shows relationshipp is not as strong as TV. "
   ]
  },
  {
   "cell_type": "code",
   "execution_count": 22,
   "metadata": {},
   "outputs": [
    {
     "data": {
      "text/plain": [
       "<AxesSubplot:xlabel='radio', ylabel='sales'>"
      ]
     },
     "execution_count": 22,
     "metadata": {},
     "output_type": "execute_result"
    },
    {
     "data": {
      "image/png": "[encoded data removed]",
      "text/plain": [
       "<Figure size 432x288 with 1 Axes>"
      ]
     },
     "metadata": {},
     "output_type": "display_data"
    }
   ],
   "source": [
    "sns.scatterplot(x='radio', y='sales', data=df)"
   ]
  },
  {
   "cell_type": "markdown",
   "metadata": {},
   "source": [
    "The scatter plot below doesn't give much of information as points are scttered and doesn't show a particular relationship."
   ]
  },
  {
   "cell_type": "code",
   "execution_count": 23,
   "metadata": {},
   "outputs": [
    {
     "data": {
      "text/plain": [
       "<AxesSubplot:xlabel='newspaper', ylabel='sales'>"
      ]
     },
     "execution_count": 23,
     "metadata": {},
     "output_type": "execute_result"
    },
    {
     "data": {
      "image/png": "[encoded data removed]",
      "text/plain": [
       "<Figure size 432x288 with 1 Axes>"
      ]
     },
     "metadata": {},
     "output_type": "display_data"
    }
   ],
   "source": [
    "sns.scatterplot(x='newspaper', y='sales', data=df)"
   ]
  },
  {
   "cell_type": "markdown",
   "metadata": {},
   "source": [
    "# Multivariate Analysis"
   ]
  },
  {
   "cell_type": "code",
   "execution_count": 24,
   "metadata": {},
   "outputs": [
    {
     "data": {
      "text/plain": [
       "<seaborn.axisgrid.PairGrid at 0x1d60df88b50>"
      ]
     },
     "execution_count": 24,
     "metadata": {},
     "output_type": "execute_result"
    },
    {
     "data": {
      "image/png": "[encoded data removed]",
      "text/plain": [
       "<Figure size 720x720 with 20 Axes>"
      ]
     },
     "metadata": {},
     "output_type": "display_data"
    }
   ],
   "source": [
    "sns.pairplot(df)"
   ]
  },
  {
   "cell_type": "markdown",
   "metadata": {},
   "source": [
    "Pairplot shows linear relationship TV and sales also between radio and sales."
   ]
  },
  {
   "cell_type": "markdown",
   "metadata": {},
   "source": [
    "# Box Plots showing outliers"
   ]
  },
  {
   "cell_type": "code",
   "execution_count": 25,
   "metadata": {},
   "outputs": [
    {
     "data": {
      "image/png": "[encoded data removed]",
      "text/plain": [
       "<Figure size 1584x720 with 1 Axes>"
      ]
     },
     "metadata": {},
     "output_type": "display_data"
    }
   ],
   "source": [
    "plt.figure(figsize=(22,10))\n",
    "ax = sns.boxplot(data=df, orient=\"v\")"
   ]
  },
  {
   "cell_type": "markdown",
   "metadata": {},
   "source": [
    "Boxplots shows that newspaper variable has two outliers."
   ]
  },
  {
   "cell_type": "markdown",
   "metadata": {},
   "source": [
    "# Separating x(Independent) and y(target) variable."
   ]
  },
  {
   "cell_type": "code",
   "execution_count": null,
   "metadata": {},
   "outputs": [],
   "source": [
    "x = df.drop('sales', axis=1)\n",
    "y = df['sales']"
   ]
  },
  {
   "cell_type": "markdown",
   "metadata": {},
   "source": [
    "# Removing Skewness"
   ]
  },
  {
   "cell_type": "code",
   "execution_count": 27,
   "metadata": {},
   "outputs": [
    {
     "data": {
      "text/plain": [
       "TV          -0.069853\n",
       "radio        0.094175\n",
       "newspaper    0.894720\n",
       "dtype: float64"
      ]
     },
     "execution_count": 27,
     "metadata": {},
     "output_type": "execute_result"
    }
   ],
   "source": [
    "x.skew()"
   ]
  },
  {
   "cell_type": "code",
   "execution_count": 28,
   "metadata": {},
   "outputs": [
    {
     "data": {
      "text/plain": [
       "0.06238771883281062"
      ]
     },
     "execution_count": 28,
     "metadata": {},
     "output_type": "execute_result"
    }
   ],
   "source": [
    "df['newspaper']=np.sqrt(df['newspaper'])\n",
    "df['newspaper'].skew()"
   ]
  },
  {
   "cell_type": "markdown",
   "metadata": {},
   "source": [
    "# Scaling"
   ]
  },
  {
   "cell_type": "code",
   "execution_count": 29,
   "metadata": {},
   "outputs": [],
   "source": [
    "from sklearn.preprocessing import StandardScaler\n",
    "scaler=StandardScaler()\n",
    "x=pd.DataFrame(scaler.fit_transform(x),columns=x.columns)"
   ]
  },
  {
   "cell_type": "code",
   "execution_count": 30,
   "metadata": {},
   "outputs": [
    {
     "data": {
      "text/html": [
       "<div>\n",
       "<style scoped>\n",
       "    .dataframe tbody tr th:only-of-type {\n",
       "        vertical-align: middle;\n",
       "    }\n",
       "\n",
       "    .dataframe tbody tr th {\n",
       "        vertical-align: top;\n",
       "    }\n",
       "\n",
       "    .dataframe thead th {\n",
       "        text-align: right;\n",
       "    }\n",
       "</style>\n",
       "<table border=\"1\" class=\"dataframe\">\n",
       "  <thead>\n",
       "    <tr style=\"text-align: right;\">\n",
       "      <th></th>\n",
       "      <th>TV</th>\n",
       "      <th>radio</th>\n",
       "      <th>newspaper</th>\n",
       "    </tr>\n",
       "  </thead>\n",
       "  <tbody>\n",
       "    <tr>\n",
       "      <th>0</th>\n",
       "      <td>0.969852</td>\n",
       "      <td>0.981522</td>\n",
       "      <td>1.778945</td>\n",
       "    </tr>\n",
       "    <tr>\n",
       "      <th>1</th>\n",
       "      <td>-1.197376</td>\n",
       "      <td>1.082808</td>\n",
       "      <td>0.669579</td>\n",
       "    </tr>\n",
       "    <tr>\n",
       "      <th>2</th>\n",
       "      <td>-1.516155</td>\n",
       "      <td>1.528463</td>\n",
       "      <td>1.783549</td>\n",
       "    </tr>\n",
       "    <tr>\n",
       "      <th>3</th>\n",
       "      <td>0.052050</td>\n",
       "      <td>1.217855</td>\n",
       "      <td>1.286405</td>\n",
       "    </tr>\n",
       "    <tr>\n",
       "      <th>4</th>\n",
       "      <td>0.394182</td>\n",
       "      <td>-0.841614</td>\n",
       "      <td>1.281802</td>\n",
       "    </tr>\n",
       "  </tbody>\n",
       "</table>\n",
       "</div>"
      ],
      "text/plain": [
       "         TV     radio  newspaper\n",
       "0  0.969852  0.981522   1.778945\n",
       "1 -1.197376  1.082808   0.669579\n",
       "2 -1.516155  1.528463   1.783549\n",
       "3  0.052050  1.217855   1.286405\n",
       "4  0.394182 -0.841614   1.281802"
      ]
     },
     "execution_count": 30,
     "metadata": {},
     "output_type": "execute_result"
    }
   ],
   "source": [
    "x.head()"
   ]
  },
  {
   "cell_type": "markdown",
   "metadata": {},
   "source": [
    "# Finding the best random state"
   ]
  },
  {
   "cell_type": "code",
   "execution_count": 31,
   "metadata": {
    "scrolled": true
   },
   "outputs": [
    {
     "name": "stdout",
     "output_type": "stream",
     "text": [
      "At random state0,the training accuracy is:0.9065727532450596\n",
      "At random state0,the testing accuracy is:0.8649018906637791\n",
      "\n",
      "\n",
      "At random state1,the training accuracy is:0.8850053786777522\n",
      "At random state1,the testing accuracy is:0.9224605706201436\n",
      "\n",
      "\n",
      "At random state2,the training accuracy is:0.9294705638285602\n",
      "At random state2,the testing accuracy is:0.8041157295965823\n",
      "\n",
      "\n",
      "At random state3,the training accuracy is:0.9046393841056695\n",
      "At random state3,the testing accuracy is:0.8760893953712908\n",
      "\n",
      "\n",
      "At random state4,the training accuracy is:0.8890066696510228\n",
      "At random state4,the testing accuracy is:0.9127220729596172\n",
      "\n",
      "\n",
      "At random state5,the training accuracy is:0.8997682984995\n",
      "At random state5,the testing accuracy is:0.8868821951328664\n",
      "\n",
      "\n",
      "At random state6,the training accuracy is:0.907242024188774\n",
      "At random state6,the testing accuracy is:0.8598585513768164\n",
      "\n",
      "\n",
      "At random state7,the training accuracy is:0.8970470429900155\n",
      "At random state7,the testing accuracy is:0.8894586465158204\n",
      "\n",
      "\n",
      "At random state8,the training accuracy is:0.8980041394874958\n",
      "At random state8,the testing accuracy is:0.8854571881271271\n",
      "\n",
      "\n",
      "At random state9,the training accuracy is:0.8934006397815405\n",
      "At random state9,the testing accuracy is:0.9034495005656621\n",
      "\n",
      "\n",
      "At random state10,the training accuracy is:0.9210357287534704\n",
      "At random state10,the testing accuracy is:0.8567790678044408\n",
      "\n",
      "\n",
      "At random state11,the training accuracy is:0.8994522204964304\n",
      "At random state11,the testing accuracy is:0.8771696073746852\n",
      "\n",
      "\n",
      "At random state12,the training accuracy is:0.8880874408450837\n",
      "At random state12,the testing accuracy is:0.9137053125897676\n",
      "\n",
      "\n",
      "At random state13,the training accuracy is:0.8761514926449974\n",
      "At random state13,the testing accuracy is:0.933219070930032\n",
      "\n",
      "\n",
      "At random state14,the training accuracy is:0.9075934547335358\n",
      "At random state14,the testing accuracy is:0.8757569848504642\n",
      "\n",
      "\n",
      "At random state15,the training accuracy is:0.890497906857901\n",
      "At random state15,the testing accuracy is:0.9098185997574568\n",
      "\n",
      "\n",
      "At random state16,the training accuracy is:0.8979627188426623\n",
      "At random state16,the testing accuracy is:0.8922483569038694\n",
      "\n",
      "\n",
      "At random state17,the training accuracy is:0.9161945917164022\n",
      "At random state17,the testing accuracy is:0.8375469513486384\n",
      "\n",
      "\n",
      "At random state18,the training accuracy is:0.9064587591638301\n",
      "At random state18,the testing accuracy is:0.8755301322199422\n",
      "\n",
      "\n",
      "At random state19,the training accuracy is:0.8909374742282805\n",
      "At random state19,the testing accuracy is:0.9051585018146889\n",
      "\n",
      "\n",
      "At random state20,the training accuracy is:0.9149231325447824\n",
      "At random state20,the testing accuracy is:0.8568542870042717\n",
      "\n",
      "\n",
      "At random state21,the training accuracy is:0.9084623128271935\n",
      "At random state21,the testing accuracy is:0.8693216761737508\n",
      "\n",
      "\n",
      "At random state22,the training accuracy is:0.891727475158365\n",
      "At random state22,the testing accuracy is:0.904888739398882\n",
      "\n",
      "\n",
      "At random state23,the training accuracy is:0.8749599919887684\n",
      "At random state23,the testing accuracy is:0.9266842516167633\n",
      "\n",
      "\n",
      "At random state24,the training accuracy is:0.8953599618964893\n",
      "At random state24,the testing accuracy is:0.9012086772570745\n",
      "\n",
      "\n",
      "At random state25,the training accuracy is:0.8981488993765006\n",
      "At random state25,the testing accuracy is:0.8926677775783507\n",
      "\n",
      "\n",
      "At random state26,the training accuracy is:0.9037205908937178\n",
      "At random state26,the testing accuracy is:0.8665637102148116\n",
      "\n",
      "\n",
      "At random state27,the training accuracy is:0.8944316129016189\n",
      "At random state27,the testing accuracy is:0.9024544176509974\n",
      "\n",
      "\n",
      "At random state28,the training accuracy is:0.8881150203063798\n",
      "At random state28,the testing accuracy is:0.912812346071917\n",
      "\n",
      "\n",
      "At random state29,the training accuracy is:0.8888173253368554\n",
      "At random state29,the testing accuracy is:0.9052581758950291\n",
      "\n",
      "\n",
      "At random state30,the training accuracy is:0.8823534471730328\n",
      "At random state30,the testing accuracy is:0.9151734116027948\n",
      "\n",
      "\n",
      "At random state31,the training accuracy is:0.8873385517505767\n",
      "At random state31,the testing accuracy is:0.912729580728488\n",
      "\n",
      "\n",
      "At random state32,the training accuracy is:0.916797376054058\n",
      "At random state32,the testing accuracy is:0.832047084948828\n",
      "\n",
      "\n",
      "At random state33,the training accuracy is:0.8795791836220443\n",
      "At random state33,the testing accuracy is:0.927779550143889\n",
      "\n",
      "\n",
      "At random state34,the training accuracy is:0.8889112033232959\n",
      "At random state34,the testing accuracy is:0.9082261261765688\n",
      "\n",
      "\n",
      "At random state35,the training accuracy is:0.9147379269687755\n",
      "At random state35,the testing accuracy is:0.8366208055158819\n",
      "\n",
      "\n",
      "At random state36,the training accuracy is:0.8945878297184995\n",
      "At random state36,the testing accuracy is:0.8999894726669666\n",
      "\n",
      "\n",
      "At random state37,the training accuracy is:0.89529595716325\n",
      "At random state37,the testing accuracy is:0.9001597414347062\n",
      "\n",
      "\n",
      "At random state38,the training accuracy is:0.8966993194367405\n",
      "At random state38,the testing accuracy is:0.8965126998177373\n",
      "\n",
      "\n",
      "At random state39,the training accuracy is:0.8934069326766587\n",
      "At random state39,the testing accuracy is:0.9021887835495945\n",
      "\n",
      "\n",
      "At random state40,the training accuracy is:0.9174361790665879\n",
      "At random state40,the testing accuracy is:0.842836506760993\n",
      "\n",
      "\n",
      "At random state41,the training accuracy is:0.8994475215747493\n",
      "At random state41,the testing accuracy is:0.8879002374422851\n",
      "\n",
      "\n",
      "At random state42,the training accuracy is:0.9055159502227753\n",
      "At random state42,the testing accuracy is:0.8609466508230368\n",
      "\n",
      "\n",
      "At random state43,the training accuracy is:0.8844142326775768\n",
      "At random state43,the testing accuracy is:0.9220854203535253\n",
      "\n",
      "\n",
      "At random state44,the training accuracy is:0.9033938636437997\n",
      "At random state44,the testing accuracy is:0.8732216867861214\n",
      "\n",
      "\n",
      "At random state45,the training accuracy is:0.8896590670217261\n",
      "At random state45,the testing accuracy is:0.9041908265578181\n",
      "\n",
      "\n",
      "At random state46,the training accuracy is:0.9057224483240804\n",
      "At random state46,the testing accuracy is:0.8364996005112131\n",
      "\n",
      "\n",
      "At random state47,the training accuracy is:0.9208558962135781\n",
      "At random state47,the testing accuracy is:0.8190698306457092\n",
      "\n",
      "\n",
      "At random state48,the training accuracy is:0.8838612587018071\n",
      "At random state48,the testing accuracy is:0.9268671736178934\n",
      "\n",
      "\n",
      "At random state49,the training accuracy is:0.9183201862339954\n",
      "At random state49,the testing accuracy is:0.8299673592332242\n",
      "\n",
      "\n",
      "At random state50,the training accuracy is:0.9028165267955438\n",
      "At random state50,the testing accuracy is:0.8590575550977457\n",
      "\n",
      "\n",
      "At random state51,the training accuracy is:0.9083841658997556\n",
      "At random state51,the testing accuracy is:0.8614791245277719\n",
      "\n",
      "\n",
      "At random state52,the training accuracy is:0.9011841529667618\n",
      "At random state52,the testing accuracy is:0.88827791532073\n",
      "\n",
      "\n",
      "At random state53,the training accuracy is:0.8905208100441702\n",
      "At random state53,the testing accuracy is:0.9080413088174213\n",
      "\n",
      "\n",
      "At random state54,the training accuracy is:0.8860419304410506\n",
      "At random state54,the testing accuracy is:0.9191947217126588\n",
      "\n",
      "\n",
      "At random state55,the training accuracy is:0.8890309390096989\n",
      "At random state55,the testing accuracy is:0.913387028554259\n",
      "\n",
      "\n",
      "At random state56,the training accuracy is:0.8918698541173364\n",
      "At random state56,the testing accuracy is:0.9055711891498832\n",
      "\n",
      "\n",
      "At random state57,the training accuracy is:0.8832383020415205\n",
      "At random state57,the testing accuracy is:0.9291186419843585\n",
      "\n",
      "\n",
      "At random state58,the training accuracy is:0.920207906713582\n",
      "At random state58,the testing accuracy is:0.847589228347908\n",
      "\n",
      "\n",
      "At random state59,the training accuracy is:0.8839836259148618\n",
      "At random state59,the testing accuracy is:0.9243833433664873\n",
      "\n",
      "\n",
      "At random state60,the training accuracy is:0.8814896009802299\n",
      "At random state60,the testing accuracy is:0.9212516452529053\n",
      "\n",
      "\n",
      "At random state61,the training accuracy is:0.8907533060418635\n",
      "At random state61,the testing accuracy is:0.9148371982980591\n",
      "\n",
      "\n",
      "At random state62,the training accuracy is:0.9128520592403807\n",
      "At random state62,the testing accuracy is:0.8595840117802678\n",
      "\n",
      "\n",
      "At random state63,the training accuracy is:0.9004988160586833\n",
      "At random state63,the testing accuracy is:0.8741799036058016\n",
      "\n",
      "\n",
      "At random state64,the training accuracy is:0.9074912721163314\n",
      "At random state64,the testing accuracy is:0.8676807338735497\n",
      "\n",
      "\n",
      "At random state65,the training accuracy is:0.8918103785654973\n",
      "At random state65,the testing accuracy is:0.9065426023110352\n",
      "\n",
      "\n",
      "At random state66,the training accuracy is:0.9027189269675974\n",
      "At random state66,the testing accuracy is:0.8834350768489052\n",
      "\n",
      "\n",
      "At random state67,the training accuracy is:0.9146405538127508\n",
      "At random state67,the testing accuracy is:0.8477194073613746\n",
      "\n",
      "\n",
      "At random state68,the training accuracy is:0.8932327136340211\n",
      "At random state68,the testing accuracy is:0.8942303625531687\n",
      "\n",
      "\n",
      "At random state69,the training accuracy is:0.8797627622043853\n",
      "At random state69,the testing accuracy is:0.9287709654995001\n",
      "\n",
      "\n",
      "At random state70,the training accuracy is:0.8805829698835106\n",
      "At random state70,the testing accuracy is:0.9178300869023436\n",
      "\n",
      "\n",
      "At random state71,the training accuracy is:0.9255788218059839\n",
      "At random state71,the testing accuracy is:0.8053098211528189\n",
      "\n",
      "\n",
      "At random state72,the training accuracy is:0.8866517600935032\n",
      "At random state72,the testing accuracy is:0.9178388029278176\n",
      "\n",
      "\n",
      "At random state73,the training accuracy is:0.9074985718849533\n",
      "At random state73,the testing accuracy is:0.8708396918566172\n",
      "\n",
      "\n",
      "At random state74,the training accuracy is:0.9025651343425857\n",
      "At random state74,the testing accuracy is:0.876736078577098\n",
      "\n",
      "\n",
      "At random state75,the training accuracy is:0.8939153787606575\n",
      "At random state75,the testing accuracy is:0.8995238407931532\n",
      "\n",
      "\n",
      "At random state76,the training accuracy is:0.9095862570815543\n",
      "At random state76,the testing accuracy is:0.8328068059454565\n",
      "\n",
      "\n",
      "At random state77,the training accuracy is:0.8936438250243569\n",
      "At random state77,the testing accuracy is:0.9036075347224286\n",
      "\n",
      "\n",
      "At random state78,the training accuracy is:0.8905675207733048\n",
      "At random state78,the testing accuracy is:0.9133192356867081\n",
      "\n",
      "\n",
      "At random state79,the training accuracy is:0.8872807899098082\n",
      "At random state79,the testing accuracy is:0.9093204290680875\n",
      "\n",
      "\n",
      "At random state80,the training accuracy is:0.910353050069951\n",
      "At random state80,the testing accuracy is:0.8597650411813857\n",
      "\n",
      "\n",
      "At random state81,the training accuracy is:0.897233692789416\n",
      "At random state81,the testing accuracy is:0.8941343365705533\n",
      "\n",
      "\n",
      "At random state82,the training accuracy is:0.9149971165365426\n",
      "At random state82,the testing accuracy is:0.8453806788757023\n",
      "\n",
      "\n",
      "At random state83,the training accuracy is:0.887640945761802\n",
      "At random state83,the testing accuracy is:0.9105909070849123\n",
      "\n",
      "\n",
      "At random state84,the training accuracy is:0.8867785682151241\n",
      "At random state84,the testing accuracy is:0.9176881292904957\n",
      "\n",
      "\n",
      "At random state85,the training accuracy is:0.9137756553549168\n",
      "At random state85,the testing accuracy is:0.844903070676909\n",
      "\n",
      "\n",
      "At random state86,the training accuracy is:0.9117913096321943\n",
      "At random state86,the testing accuracy is:0.8647479771853347\n",
      "\n",
      "\n",
      "At random state87,the training accuracy is:0.9137548846341476\n",
      "At random state87,the testing accuracy is:0.8357013234311966\n",
      "\n",
      "\n",
      "At random state88,the training accuracy is:0.9064472079113338\n",
      "At random state88,the testing accuracy is:0.8694850964426024\n",
      "\n",
      "\n",
      "At random state89,the training accuracy is:0.8946936591305354\n",
      "At random state89,the testing accuracy is:0.8957719551392548\n",
      "\n",
      "\n",
      "At random state90,the training accuracy is:0.8978123399212419\n",
      "At random state90,the testing accuracy is:0.886787076014882\n",
      "\n",
      "\n",
      "At random state91,the training accuracy is:0.88688525209592\n",
      "At random state91,the testing accuracy is:0.9024947270891125\n",
      "\n",
      "\n",
      "At random state92,the training accuracy is:0.8923837697265168\n",
      "At random state92,the testing accuracy is:0.9034627675504752\n",
      "\n",
      "\n",
      "At random state93,the training accuracy is:0.8963036533470343\n",
      "At random state93,the testing accuracy is:0.8944590890677713\n",
      "\n",
      "\n",
      "At random state94,the training accuracy is:0.898503828307806\n",
      "At random state94,the testing accuracy is:0.8939050383186229\n",
      "\n",
      "\n",
      "At random state95,the training accuracy is:0.8869632024282323\n",
      "At random state95,the testing accuracy is:0.9026524606779115\n",
      "\n",
      "\n",
      "At random state96,the training accuracy is:0.8993515356221556\n",
      "At random state96,the testing accuracy is:0.8805597077994877\n",
      "\n",
      "\n",
      "At random state97,the training accuracy is:0.893719335323484\n",
      "At random state97,the testing accuracy is:0.897422612315701\n",
      "\n",
      "\n",
      "At random state98,the training accuracy is:0.8826959050475498\n",
      "At random state98,the testing accuracy is:0.9206266245422206\n",
      "\n",
      "\n",
      "At random state99,the training accuracy is:0.8850092451204061\n",
      "At random state99,the testing accuracy is:0.9197848691418976\n",
      "\n",
      "\n"
     ]
    }
   ],
   "source": [
    "from sklearn.linear_model import LinearRegression\n",
    "from sklearn.metrics import r2_score\n",
    "from sklearn.model_selection import train_test_split\n",
    "lr=LinearRegression()\n",
    "for i in range (0,100):\n",
    "    x_train,x_test,y_train,y_test=train_test_split(x,y,test_size=0.3,random_state=i)\n",
    "    lr.fit(x_train,y_train)\n",
    "    pred_train=lr.predict(x_train)\n",
    "    pred_test=lr.predict(x_test)\n",
    "    print(f\"At random state{i},the training accuracy is:{r2_score(y_train,pred_train)}\")\n",
    "    print(f\"At random state{i},the testing accuracy is:{r2_score(y_test,pred_test)}\")\n",
    "    print(\"\\n\")"
   ]
  },
  {
   "cell_type": "markdown",
   "metadata": {},
   "source": [
    "# Train Test Split"
   ]
  },
  {
   "cell_type": "code",
   "execution_count": 32,
   "metadata": {},
   "outputs": [],
   "source": [
    "x_train,x_test,y_train,y_test=train_test_split(x,y,test_size=0.3,random_state=13)"
   ]
  },
  {
   "cell_type": "markdown",
   "metadata": {},
   "source": [
    "# Finding best model"
   ]
  },
  {
   "cell_type": "markdown",
   "metadata": {},
   "source": [
    "# Linear Regression"
   ]
  },
  {
   "cell_type": "code",
   "execution_count": 33,
   "metadata": {},
   "outputs": [
    {
     "data": {
      "text/plain": [
       "LinearRegression()"
      ]
     },
     "execution_count": 33,
     "metadata": {},
     "output_type": "execute_result"
    }
   ],
   "source": [
    "lm=LinearRegression()\n",
    "lm.fit(x_train,y_train)"
   ]
  },
  {
   "cell_type": "code",
   "execution_count": 34,
   "metadata": {},
   "outputs": [
    {
     "data": {
      "text/plain": [
       "13.913570731529191"
      ]
     },
     "execution_count": 34,
     "metadata": {},
     "output_type": "execute_result"
    }
   ],
   "source": [
    "lm.intercept_"
   ]
  },
  {
   "cell_type": "code",
   "execution_count": 35,
   "metadata": {},
   "outputs": [
    {
     "data": {
      "text/plain": [
       "0.8761514926449974"
      ]
     },
     "execution_count": 35,
     "metadata": {},
     "output_type": "execute_result"
    }
   ],
   "source": [
    "lm.score(x_train,y_train)"
   ]
  },
  {
   "cell_type": "code",
   "execution_count": 36,
   "metadata": {},
   "outputs": [
    {
     "name": "stdout",
     "output_type": "stream",
     "text": [
      "Predicted Sales: [12.32720332  5.06197319 16.54033378 12.29411692 12.62278573 23.77502276\n",
      " 21.59981913 14.80997483 22.11179258 15.26764663 16.21691643  5.92778598\n",
      "  7.67540049 18.86288675 17.71169701 16.71181584  8.15245271  9.57831643\n",
      " 20.2276226  17.70912934 11.92163063  7.73217589 21.67515203 11.97950563\n",
      " 17.17473605 19.444878    9.97576933 14.32642791 23.31633305  8.51144235\n",
      " 15.41978096 18.34247836 17.76781632  6.88977405 16.78491899  8.69467039\n",
      "  9.91771591 20.70148766  5.1951983  10.34315527  8.98878062 18.93049909\n",
      " 21.00172579  3.40790628 15.67442002 21.07539661 19.11565385  9.96482352\n",
      " 10.3319019  21.22486232 20.88600927  9.20109396  9.75756367 13.92903527\n",
      "  7.54934969 14.04423509 23.22831804  7.36101863  4.28463794  8.25717521]\n",
      "Actual Sales: 180    12.6\n",
      "156     3.2\n",
      "24     15.5\n",
      "160    12.9\n",
      "97     11.7\n",
      "199    25.5\n",
      "43     20.7\n",
      "111    13.4\n",
      "129    24.7\n",
      "98     15.5\n",
      "96     16.9\n",
      "107     7.2\n",
      "66      9.3\n",
      "34     17.4\n",
      "103    14.8\n",
      "90     16.7\n",
      "133     5.7\n",
      "80     11.0\n",
      "105    20.7\n",
      "71     18.3\n",
      "174    11.7\n",
      "130     9.7\n",
      "31     21.4\n",
      "8      13.2\n",
      "169    17.1\n",
      "125    19.7\n",
      "158    10.1\n",
      "166    11.9\n",
      "102    23.8\n",
      "79      5.3\n",
      "88     16.0\n",
      "142    19.2\n",
      "106    19.2\n",
      "11      8.6\n",
      "65     18.0\n",
      "14      9.7\n",
      "91     11.2\n",
      "16     22.4\n",
      "196     7.6\n",
      "95     11.5\n",
      "126    10.6\n",
      "69     18.9\n",
      "70     22.3\n",
      "109     5.3\n",
      "132    12.7\n",
      "112    21.8\n",
      "93     19.4\n",
      "145    11.4\n",
      "13      9.2\n",
      "94     22.2\n",
      "138    20.8\n",
      "52     10.7\n",
      "19     11.3\n",
      "101    11.7\n",
      "33      9.6\n",
      "20     14.6\n",
      "18     24.4\n",
      "173     7.6\n",
      "193     5.9\n",
      "192     9.9\n",
      "Name: sales, dtype: float64\n"
     ]
    }
   ],
   "source": [
    "pred=lm.predict(x_test)\n",
    "print(\"Predicted Sales:\",pred)\n",
    "print(\"Actual Sales:\",y_test)"
   ]
  },
  {
   "cell_type": "code",
   "execution_count": 44,
   "metadata": {},
   "outputs": [
    {
     "name": "stdout",
     "output_type": "stream",
     "text": [
      "r2 Score: 0.933219070930032\n",
      "Error:\n",
      "Mean Absolute Error: 1.2175973442613899\n",
      "Mean Squared Error: 2.116230321929836\n",
      "Root Mean Squared Error: 1.4547268891203724\n"
     ]
    }
   ],
   "source": [
    "from sklearn.metrics import mean_squared_error,mean_absolute_error\n",
    "from sklearn.metrics import r2_score\n",
    "print(\"r2 Score:\",r2_score(y_test,pred))\n",
    "print(\"Error:\")\n",
    "print(\"Mean Absolute Error:\",mean_absolute_error(y_test,pred))\n",
    "print(\"Mean Squared Error:\",mean_squared_error(y_test,pred))\n",
    "print(\"Root Mean Squared Error:\",np.sqrt(mean_squared_error(y_test,pred)))"
   ]
  },
  {
   "cell_type": "markdown",
   "metadata": {},
   "source": [
    "# Decision Tree Regressor"
   ]
  },
  {
   "cell_type": "code",
   "execution_count": 40,
   "metadata": {},
   "outputs": [
    {
     "data": {
      "text/plain": [
       "DecisionTreeRegressor()"
      ]
     },
     "execution_count": 40,
     "metadata": {},
     "output_type": "execute_result"
    }
   ],
   "source": [
    "from sklearn.tree import DecisionTreeRegressor\n",
    "dtr=DecisionTreeRegressor()\n",
    "dtr.fit(x_train,y_train)\n"
   ]
  },
  {
   "cell_type": "code",
   "execution_count": 41,
   "metadata": {},
   "outputs": [
    {
     "data": {
      "text/plain": [
       "1.0"
      ]
     },
     "execution_count": 41,
     "metadata": {},
     "output_type": "execute_result"
    }
   ],
   "source": [
    "dtr.score(x_train,y_train)"
   ]
  },
  {
   "cell_type": "code",
   "execution_count": 43,
   "metadata": {},
   "outputs": [
    {
     "data": {
      "text/plain": [
       "0.967123333781261"
      ]
     },
     "execution_count": 43,
     "metadata": {},
     "output_type": "execute_result"
    }
   ],
   "source": [
    "dtr.score(x_test,y_test)"
   ]
  },
  {
   "cell_type": "code",
   "execution_count": 42,
   "metadata": {},
   "outputs": [
    {
     "name": "stdout",
     "output_type": "stream",
     "text": [
      "Predicted Sales: [12.9  1.6 15.7 13.2 12.8 26.2 19.8 12.9 23.8 14.9 17.1  7.3  9.7 15.9\n",
      " 15.  15.3  4.8 11.9 20.2 19.  13.2  9.7 19.6 11.6 17.6 19.6 10.5 11.6\n",
      " 22.1  5.5 15.3 17.1 17.2  8.7 17.2  9.7 10.3 23.7  9.7 12.4  8.7 19.8\n",
      " 21.7  5.6 11.6 21.5 18.4 11.3  8.8 22.1 19.6  9.7 10.9 12.3  8.7 15.5\n",
      " 22.1  6.6  7.3  9.7]\n",
      "Actual Sales: 180    12.6\n",
      "156     3.2\n",
      "24     15.5\n",
      "160    12.9\n",
      "97     11.7\n",
      "199    25.5\n",
      "43     20.7\n",
      "111    13.4\n",
      "129    24.7\n",
      "98     15.5\n",
      "96     16.9\n",
      "107     7.2\n",
      "66      9.3\n",
      "34     17.4\n",
      "103    14.8\n",
      "90     16.7\n",
      "133     5.7\n",
      "80     11.0\n",
      "105    20.7\n",
      "71     18.3\n",
      "174    11.7\n",
      "130     9.7\n",
      "31     21.4\n",
      "8      13.2\n",
      "169    17.1\n",
      "125    19.7\n",
      "158    10.1\n",
      "166    11.9\n",
      "102    23.8\n",
      "79      5.3\n",
      "88     16.0\n",
      "142    19.2\n",
      "106    19.2\n",
      "11      8.6\n",
      "65     18.0\n",
      "14      9.7\n",
      "91     11.2\n",
      "16     22.4\n",
      "196     7.6\n",
      "95     11.5\n",
      "126    10.6\n",
      "69     18.9\n",
      "70     22.3\n",
      "109     5.3\n",
      "132    12.7\n",
      "112    21.8\n",
      "93     19.4\n",
      "145    11.4\n",
      "13      9.2\n",
      "94     22.2\n",
      "138    20.8\n",
      "52     10.7\n",
      "19     11.3\n",
      "101    11.7\n",
      "33      9.6\n",
      "20     14.6\n",
      "18     24.4\n",
      "173     7.6\n",
      "193     5.9\n",
      "192     9.9\n",
      "Name: sales, dtype: float64\n"
     ]
    }
   ],
   "source": [
    "preddtr=dtr.predict(x_test)\n",
    "print(\"Predicted Sales:\",preddtr)\n",
    "print(\"Actual Sales:\",y_test)"
   ]
  },
  {
   "cell_type": "code",
   "execution_count": 45,
   "metadata": {},
   "outputs": [
    {
     "name": "stdout",
     "output_type": "stream",
     "text": [
      "r2 Score: 0.967123333781261\n",
      "Error:\n",
      "Mean Absolute Error: 0.8249999999999997\n",
      "Mean Squared Error: 1.0418333333333325\n",
      "Root Mean Squared Error: 1.0207023725520248\n"
     ]
    }
   ],
   "source": [
    "from sklearn.metrics import mean_squared_error,mean_absolute_error\n",
    "from sklearn.metrics import r2_score\n",
    "print(\"r2 Score:\",r2_score(y_test,preddtr))\n",
    "print(\"Error:\")\n",
    "print(\"Mean Absolute Error:\",mean_absolute_error(y_test,preddtr))\n",
    "print(\"Mean Squared Error:\",mean_squared_error(y_test,preddtr))\n",
    "print(\"Root Mean Squared Error:\",np.sqrt(mean_squared_error(y_test,preddtr)))"
   ]
  },
  {
   "cell_type": "markdown",
   "metadata": {},
   "source": [
    "# SVR"
   ]
  },
  {
   "cell_type": "code",
   "execution_count": 46,
   "metadata": {},
   "outputs": [
    {
     "data": {
      "text/plain": [
       "SVR()"
      ]
     },
     "execution_count": 46,
     "metadata": {},
     "output_type": "execute_result"
    }
   ],
   "source": [
    "from sklearn.svm import SVR\n",
    "svr=SVR()\n",
    "svr.fit(x_train,y_train)"
   ]
  },
  {
   "cell_type": "code",
   "execution_count": 47,
   "metadata": {},
   "outputs": [
    {
     "data": {
      "text/plain": [
       "0.9042181305897635"
      ]
     },
     "execution_count": 47,
     "metadata": {},
     "output_type": "execute_result"
    }
   ],
   "source": [
    "svr.score(x_train,y_train)"
   ]
  },
  {
   "cell_type": "code",
   "execution_count": 48,
   "metadata": {},
   "outputs": [
    {
     "name": "stdout",
     "output_type": "stream",
     "text": [
      "Predicted Sales: [12.16421831  8.76039333 15.51126001 12.88154903 11.78339979 20.25330498\n",
      " 18.21626127 13.36699356 19.44147196 15.59949089 17.27377139  8.2788116\n",
      " 10.00702439 16.71272105 14.30383637 16.58680166  9.55264562 10.3834726\n",
      " 19.66824897 18.71770894 11.68238188  9.76110641 19.08247192 12.75393736\n",
      " 16.71847139 18.20731035 10.34131542 13.55783525 15.26289205  9.1061707\n",
      " 15.51877204 18.00300003 18.02480898  8.8671895  17.40813468 10.15623619\n",
      " 10.63521314 21.2598313   8.39268987 11.26033313 10.0504431  18.7387641\n",
      " 21.71902153  8.31501267 12.66466481 21.40258131 19.50432308 11.02200038\n",
      " 10.18688428 19.24913779 18.60695466 10.67749489 10.42160155 12.57577115\n",
      "  9.55710895 14.8159707  21.06191674  8.6344537   8.34411227  9.97364455]\n",
      "Actual Sales: 180    12.6\n",
      "156     3.2\n",
      "24     15.5\n",
      "160    12.9\n",
      "97     11.7\n",
      "199    25.5\n",
      "43     20.7\n",
      "111    13.4\n",
      "129    24.7\n",
      "98     15.5\n",
      "96     16.9\n",
      "107     7.2\n",
      "66      9.3\n",
      "34     17.4\n",
      "103    14.8\n",
      "90     16.7\n",
      "133     5.7\n",
      "80     11.0\n",
      "105    20.7\n",
      "71     18.3\n",
      "174    11.7\n",
      "130     9.7\n",
      "31     21.4\n",
      "8      13.2\n",
      "169    17.1\n",
      "125    19.7\n",
      "158    10.1\n",
      "166    11.9\n",
      "102    23.8\n",
      "79      5.3\n",
      "88     16.0\n",
      "142    19.2\n",
      "106    19.2\n",
      "11      8.6\n",
      "65     18.0\n",
      "14      9.7\n",
      "91     11.2\n",
      "16     22.4\n",
      "196     7.6\n",
      "95     11.5\n",
      "126    10.6\n",
      "69     18.9\n",
      "70     22.3\n",
      "109     5.3\n",
      "132    12.7\n",
      "112    21.8\n",
      "93     19.4\n",
      "145    11.4\n",
      "13      9.2\n",
      "94     22.2\n",
      "138    20.8\n",
      "52     10.7\n",
      "19     11.3\n",
      "101    11.7\n",
      "33      9.6\n",
      "20     14.6\n",
      "18     24.4\n",
      "173     7.6\n",
      "193     5.9\n",
      "192     9.9\n",
      "Name: sales, dtype: float64\n"
     ]
    }
   ],
   "source": [
    "predsvr=svr.predict(x_test)\n",
    "print(\"Predicted Sales:\",predsvr)\n",
    "print(\"Actual Sales:\",y_test)"
   ]
  },
  {
   "cell_type": "code",
   "execution_count": 58,
   "metadata": {},
   "outputs": [
    {
     "name": "stdout",
     "output_type": "stream",
     "text": [
      "r2 Score: 0.8632997780582803\n",
      "Error:\n",
      "Mean Absolute Error: 1.245818231574567\n",
      "Mean Squared Error: 4.331912698975932\n",
      "Root Mean Squared Error: 2.081324746159506\n"
     ]
    }
   ],
   "source": [
    "print(\"r2 Score:\",r2_score(y_test,predsvr))\n",
    "print(\"Error:\")\n",
    "print(\"Mean Absolute Error:\",mean_absolute_error(y_test,predsvr))\n",
    "print(\"Mean Squared Error:\",mean_squared_error(y_test,predsvr))\n",
    "print(\"Root Mean Squared Error:\",np.sqrt(mean_squared_error(y_test,predsvr)))"
   ]
  },
  {
   "cell_type": "markdown",
   "metadata": {},
   "source": [
    "# Random Forest Regressor"
   ]
  },
  {
   "cell_type": "code",
   "execution_count": 50,
   "metadata": {},
   "outputs": [
    {
     "data": {
      "text/plain": [
       "RandomForestRegressor()"
      ]
     },
     "execution_count": 50,
     "metadata": {},
     "output_type": "execute_result"
    }
   ],
   "source": [
    "from sklearn.ensemble import RandomForestRegressor\n",
    "rfr=RandomForestRegressor()\n",
    "rfr.fit(x_train,y_train)"
   ]
  },
  {
   "cell_type": "code",
   "execution_count": 51,
   "metadata": {},
   "outputs": [
    {
     "data": {
      "text/plain": [
       "0.995143933646748"
      ]
     },
     "execution_count": 51,
     "metadata": {},
     "output_type": "execute_result"
    }
   ],
   "source": [
    "rfr.score(x_train,y_train)"
   ]
  },
  {
   "cell_type": "code",
   "execution_count": 52,
   "metadata": {},
   "outputs": [
    {
     "name": "stdout",
     "output_type": "stream",
     "text": [
      "Predicted Sales: [13.184  4.298 15.423 12.704 11.861 24.47  19.471 12.795 23.001 15.23\n",
      " 17.92   7.158  9.768 16.36  14.124 14.773  5.266 10.832 20.106 18.33\n",
      " 12.349  9.884 19.709 12.619 17.095 19.945 10.737 11.794 21.719  5.286\n",
      " 14.485 18.356 17.153  9.098 16.81  10.083 11.008 22.835  8.712 12.178\n",
      " 10.    19.196 22.02   6.141 11.669 22.464 19.081 11.726  8.404 21.426\n",
      " 19.968 10.443 10.706 12.282  9.667 15.398 23.105  7.131  7.022  9.974]\n",
      "Actual Sales: 180    12.6\n",
      "156     3.2\n",
      "24     15.5\n",
      "160    12.9\n",
      "97     11.7\n",
      "199    25.5\n",
      "43     20.7\n",
      "111    13.4\n",
      "129    24.7\n",
      "98     15.5\n",
      "96     16.9\n",
      "107     7.2\n",
      "66      9.3\n",
      "34     17.4\n",
      "103    14.8\n",
      "90     16.7\n",
      "133     5.7\n",
      "80     11.0\n",
      "105    20.7\n",
      "71     18.3\n",
      "174    11.7\n",
      "130     9.7\n",
      "31     21.4\n",
      "8      13.2\n",
      "169    17.1\n",
      "125    19.7\n",
      "158    10.1\n",
      "166    11.9\n",
      "102    23.8\n",
      "79      5.3\n",
      "88     16.0\n",
      "142    19.2\n",
      "106    19.2\n",
      "11      8.6\n",
      "65     18.0\n",
      "14      9.7\n",
      "91     11.2\n",
      "16     22.4\n",
      "196     7.6\n",
      "95     11.5\n",
      "126    10.6\n",
      "69     18.9\n",
      "70     22.3\n",
      "109     5.3\n",
      "132    12.7\n",
      "112    21.8\n",
      "93     19.4\n",
      "145    11.4\n",
      "13      9.2\n",
      "94     22.2\n",
      "138    20.8\n",
      "52     10.7\n",
      "19     11.3\n",
      "101    11.7\n",
      "33      9.6\n",
      "20     14.6\n",
      "18     24.4\n",
      "173     7.6\n",
      "193     5.9\n",
      "192     9.9\n",
      "Name: sales, dtype: float64\n"
     ]
    }
   ],
   "source": [
    "predrfr=rfr.predict(x_test)\n",
    "print(\"Predicted Sales:\",predrfr)\n",
    "print(\"Actual Sales:\",y_test)"
   ]
  },
  {
   "cell_type": "code",
   "execution_count": 66,
   "metadata": {},
   "outputs": [
    {
     "name": "stdout",
     "output_type": "stream",
     "text": [
      "r2 Score: 0.9771644451293384\n",
      "Error:\n",
      "Mean Absolute Error: 0.6741999999999995\n",
      "Mean Squared Error: 0.723639133333333\n",
      "Root Mean Squared Error: 0.8506698145187315\n"
     ]
    }
   ],
   "source": [
    "print(\"r2 Score:\",r2_score(y_test,predrfr))\n",
    "print(\"Error:\")\n",
    "print(\"Mean Absolute Error:\",mean_absolute_error(y_test,predrfr))\n",
    "print(\"Mean Squared Error:\",mean_squared_error(y_test,predrfr))\n",
    "print(\"Root Mean Squared Error:\",np.sqrt(mean_squared_error(y_test,predrfr)))"
   ]
  },
  {
   "cell_type": "markdown",
   "metadata": {},
   "source": [
    "# Cross Validation"
   ]
  },
  {
   "cell_type": "code",
   "execution_count": 54,
   "metadata": {},
   "outputs": [
    {
     "name": "stdout",
     "output_type": "stream",
     "text": [
      "[0.87865198 0.91763212 0.92933032 0.81443904 0.89547829]\n",
      "LinearRegression cross_val_score: 0.8871063495438435\n"
     ]
    }
   ],
   "source": [
    "from sklearn.model_selection import cross_val_score\n",
    "lrs=cross_val_score(lm,x,y,scoring='r2',cv=5)\n",
    "print(lrs)\n",
    "print('LinearRegression cross_val_score:',lrs.mean())"
   ]
  },
  {
   "cell_type": "code",
   "execution_count": 55,
   "metadata": {},
   "outputs": [
    {
     "name": "stdout",
     "output_type": "stream",
     "text": [
      "[0.95694937 0.95219733 0.94960207 0.94357412 0.96366646]\n",
      "LinearRegression cross_val_score: 0.9531978695957368\n"
     ]
    }
   ],
   "source": [
    "drs=cross_val_score(dtr,x,y,scoring='r2',cv=5)\n",
    "print(drs)\n",
    "print('LinearRegression cross_val_score:',drs.mean())"
   ]
  },
  {
   "cell_type": "code",
   "execution_count": 60,
   "metadata": {},
   "outputs": [
    {
     "name": "stdout",
     "output_type": "stream",
     "text": [
      "[0.89985983 0.9464921  0.90928964 0.82899857 0.92371706]\n",
      "LinearRegression cross_val_score: 0.9016714405804581\n"
     ]
    }
   ],
   "source": [
    "svs=cross_val_score(svr,x,y,scoring='r2',cv=5)\n",
    "print(svs)\n",
    "print('LinearRegression cross_val_score:',svs.mean())"
   ]
  },
  {
   "cell_type": "code",
   "execution_count": 56,
   "metadata": {},
   "outputs": [
    {
     "name": "stdout",
     "output_type": "stream",
     "text": [
      "[0.98152127 0.98418606 0.97136379 0.96115167 0.97859646]\n",
      "LinearRegression cross_val_score: 0.9753638485494065\n"
     ]
    }
   ],
   "source": [
    "rfs=cross_val_score(rfr,x,y,scoring='r2',cv=5)\n",
    "print(rfs)\n",
    "print('LinearRegression cross_val_score:',rfs.mean())"
   ]
  },
  {
   "cell_type": "markdown",
   "metadata": {},
   "source": [
    "The difference between cross validation and accuracy score is for random forest regressor . Therefore it is our best model."
   ]
  },
  {
   "cell_type": "markdown",
   "metadata": {},
   "source": [
    "# Hyperparameter Tuning"
   ]
  },
  {
   "cell_type": "code",
   "execution_count": 73,
   "metadata": {},
   "outputs": [
    {
     "name": "stdout",
     "output_type": "stream",
     "text": [
      "{'bootstrap': True, 'criterion': 'mae', 'max_features': 'auto', 'min_samples_leaf': 1, 'min_samples_split': 2}\n"
     ]
    }
   ],
   "source": [
    "from sklearn.model_selection import GridSearchCV\n",
    "from sklearn.ensemble import RandomForestRegressor\n",
    "parameters={'criterion':['mse','mae'],'max_features':['auto','sqrt','log2'],'bootstrap': [True, False],\n",
    "            'min_samples_leaf' : [1, 2, 4],'min_samples_split': [2, 5, 10]}\n",
    "rf=RandomForestRegressor()\n",
    "clf=GridSearchCV(rf,parameters)\n",
    "clf.fit(x_train,y_train)\n",
    "print(clf.best_params_)"
   ]
  },
  {
   "cell_type": "code",
   "execution_count": 74,
   "metadata": {},
   "outputs": [
    {
     "name": "stdout",
     "output_type": "stream",
     "text": [
      "R2 score: 97.71681887881152\n"
     ]
    }
   ],
   "source": [
    "rf=RandomForestRegressor(bootstrap=True, criterion='mae', max_features= 'auto', min_samples_leaf= 1, min_samples_split= 2)\n",
    "rf.fit(x_train,y_train)\n",
    "rf.score(x_train,y_train)\n",
    "pred_decision=rf.predict(x_test)\n",
    "rfs=r2_score(y_test,pred_decision)\n",
    "print('R2 score:',rfs*100)"
   ]
  },
  {
   "cell_type": "markdown",
   "metadata": {},
   "source": [
    "# Plot of Random Forest Regression"
   ]
  },
  {
   "cell_type": "code",
   "execution_count": 75,
   "metadata": {},
   "outputs": [
    {
     "data": {
      "text/plain": [
       "<function matplotlib.pyplot.show(close=None, block=None)>"
      ]
     },
     "execution_count": 75,
     "metadata": {},
     "output_type": "execute_result"
    },
    {
     "data": {
      "image/png": "[encoded data removed]",
      "text/plain": [
       "<Figure size 576x432 with 1 Axes>"
      ]
     },
     "metadata": {},
     "output_type": "display_data"
    }
   ],
   "source": [
    "plt.figure(figsize=(8,6))\n",
    "plt.scatter(x=y_test,y=predrfr,color='r')\n",
    "plt.plot(y_test,y_test,color='b')\n",
    "plt.xlabel('Actual Sales',fontsize=14)\n",
    "plt.ylabel('Predicted Sales',fontsize=14)\n",
    "plt.title('Random Forest Regression',fontsize=18)\n",
    "plt.show"
   ]
  },
  {
   "cell_type": "markdown",
   "metadata": {},
   "source": [
    "# Saving the model"
   ]
  },
  {
   "cell_type": "code",
   "execution_count": 76,
   "metadata": {},
   "outputs": [],
   "source": [
    "import pickle\n",
    "filename='Sales.pkl'\n",
    "pickle.dump(rfr,open(filename,'wb'))"
   ]
  },
  {
   "cell_type": "markdown",
   "metadata": {},
   "source": [
    "# Prediction"
   ]
  },
  {
   "cell_type": "code",
   "execution_count": 77,
   "metadata": {},
   "outputs": [
    {
     "name": "stdout",
     "output_type": "stream",
     "text": [
      "0.9771644451293384\n"
     ]
    }
   ],
   "source": [
    "loaded_model=pickle.load(open('Sales.pkl','rb'))\n",
    "result=loaded_model.score(x_test,y_test)\n",
    "print(result)"
   ]
  },
  {
   "cell_type": "code",
   "execution_count": 78,
   "metadata": {},
   "outputs": [
    {
     "data": {
      "text/html": [
       "<div>\n",
       "<style scoped>\n",
       "    .dataframe tbody tr th:only-of-type {\n",
       "        vertical-align: middle;\n",
       "    }\n",
       "\n",
       "    .dataframe tbody tr th {\n",
       "        vertical-align: top;\n",
       "    }\n",
       "\n",
       "    .dataframe thead th {\n",
       "        text-align: right;\n",
       "    }\n",
       "</style>\n",
       "<table border=\"1\" class=\"dataframe\">\n",
       "  <thead>\n",
       "    <tr style=\"text-align: right;\">\n",
       "      <th></th>\n",
       "      <th>0</th>\n",
       "      <th>1</th>\n",
       "      <th>2</th>\n",
       "      <th>3</th>\n",
       "      <th>4</th>\n",
       "      <th>5</th>\n",
       "      <th>6</th>\n",
       "      <th>7</th>\n",
       "      <th>8</th>\n",
       "      <th>9</th>\n",
       "      <th>...</th>\n",
       "      <th>50</th>\n",
       "      <th>51</th>\n",
       "      <th>52</th>\n",
       "      <th>53</th>\n",
       "      <th>54</th>\n",
       "      <th>55</th>\n",
       "      <th>56</th>\n",
       "      <th>57</th>\n",
       "      <th>58</th>\n",
       "      <th>59</th>\n",
       "    </tr>\n",
       "  </thead>\n",
       "  <tbody>\n",
       "    <tr>\n",
       "      <th>Predicted</th>\n",
       "      <td>13.184</td>\n",
       "      <td>4.298</td>\n",
       "      <td>15.423</td>\n",
       "      <td>12.704</td>\n",
       "      <td>11.861</td>\n",
       "      <td>24.470</td>\n",
       "      <td>19.471</td>\n",
       "      <td>12.795</td>\n",
       "      <td>23.001</td>\n",
       "      <td>15.23</td>\n",
       "      <td>...</td>\n",
       "      <td>19.968</td>\n",
       "      <td>10.443</td>\n",
       "      <td>10.706</td>\n",
       "      <td>12.282</td>\n",
       "      <td>9.667</td>\n",
       "      <td>15.398</td>\n",
       "      <td>23.105</td>\n",
       "      <td>7.131</td>\n",
       "      <td>7.022</td>\n",
       "      <td>9.974</td>\n",
       "    </tr>\n",
       "    <tr>\n",
       "      <th>Original</th>\n",
       "      <td>12.979</td>\n",
       "      <td>4.840</td>\n",
       "      <td>15.418</td>\n",
       "      <td>12.950</td>\n",
       "      <td>11.739</td>\n",
       "      <td>25.146</td>\n",
       "      <td>19.659</td>\n",
       "      <td>12.755</td>\n",
       "      <td>23.268</td>\n",
       "      <td>15.25</td>\n",
       "      <td>...</td>\n",
       "      <td>19.846</td>\n",
       "      <td>10.695</td>\n",
       "      <td>10.789</td>\n",
       "      <td>12.233</td>\n",
       "      <td>9.645</td>\n",
       "      <td>15.567</td>\n",
       "      <td>23.084</td>\n",
       "      <td>7.411</td>\n",
       "      <td>6.897</td>\n",
       "      <td>10.084</td>\n",
       "    </tr>\n",
       "  </tbody>\n",
       "</table>\n",
       "<p>2 rows × 60 columns</p>\n",
       "</div>"
      ],
      "text/plain": [
       "               0      1       2       3       4       5       6       7   \\\n",
       "Predicted  13.184  4.298  15.423  12.704  11.861  24.470  19.471  12.795   \n",
       "Original   12.979  4.840  15.418  12.950  11.739  25.146  19.659  12.755   \n",
       "\n",
       "               8      9   ...      50      51      52      53     54      55  \\\n",
       "Predicted  23.001  15.23  ...  19.968  10.443  10.706  12.282  9.667  15.398   \n",
       "Original   23.268  15.25  ...  19.846  10.695  10.789  12.233  9.645  15.567   \n",
       "\n",
       "               56     57     58      59  \n",
       "Predicted  23.105  7.131  7.022   9.974  \n",
       "Original   23.084  7.411  6.897  10.084  \n",
       "\n",
       "[2 rows x 60 columns]"
      ]
     },
     "execution_count": 78,
     "metadata": {},
     "output_type": "execute_result"
    }
   ],
   "source": [
    "conclusion=pd.DataFrame([loaded_model.predict(x_test)[:],pred_decision[:]],index=[\"Predicted\",\"Original\"])\n",
    "conclusion"
   ]
  },
  {
   "cell_type": "code",
   "execution_count": null,
   "metadata": {},
   "outputs": [],
   "source": []
  }
 ],
 "metadata": {
  "kernelspec": {
   "display_name": "Python 3",
   "language": "python",
   "name": "python3"
  },
  "language_info": {
   "codemirror_mode": {
    "name": "ipython",
    "version": 3
   },
   "file_extension": ".py",
   "mimetype": "text/x-python",
   "name": "python",
   "nbconvert_exporter": "python",
   "pygments_lexer": "ipython3",
   "version": "3.8.5"
  }
 },
 "nbformat": 4,
 "nbformat_minor": 4
}
